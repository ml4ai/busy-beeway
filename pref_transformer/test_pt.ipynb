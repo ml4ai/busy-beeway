{
 "cells": [
  {
   "cell_type": "code",
   "execution_count": 1,
   "id": "d38f89a3-e5d8-4ba6-898a-e8ce76d46ef9",
   "metadata": {},
   "outputs": [],
   "source": [
    "from bb_data_loading import load_attempt_data, load_BB_data, load_lvl_data\n",
    "from data_utils import compute_features, to_jnp"
   ]
  },
  {
   "cell_type": "code",
   "execution_count": 2,
   "id": "bbd26ba9-2548-49ab-8241-3c4e964fc86d",
   "metadata": {},
   "outputs": [],
   "source": [
    "path = \"~/busy-beeway/data/game_data/Experiment_1T5/auto-1ba807eecf3cf284/test.2022.03.23.12.35.20/\"\n",
    "fill_size = 400"
   ]
  },
  {
   "cell_type": "code",
   "execution_count": 3,
   "id": "bd72a0a9-04b1-489f-b913-c593f65fe37e",
   "metadata": {},
   "outputs": [],
   "source": [
    "d = load_BB_data(path=path)\n",
    "f = compute_features(d)\n",
    "jf = to_jnp(f, fill_size=fill_size)"
   ]
  }
 ],
 "metadata": {
  "kernelspec": {
   "display_name": "Python 3 (ipykernel)",
   "language": "python",
   "name": "python3"
  },
  "language_info": {
   "codemirror_mode": {
    "name": "ipython",
    "version": 3
   },
   "file_extension": ".py",
   "mimetype": "text/x-python",
   "name": "python",
   "nbconvert_exporter": "python",
   "pygments_lexer": "ipython3",
   "version": "3.12.4"
  }
 },
 "nbformat": 4,
 "nbformat_minor": 5
}
