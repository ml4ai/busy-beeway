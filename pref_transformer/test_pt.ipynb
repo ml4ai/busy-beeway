{
 "cells": [
  {
   "cell_type": "code",
   "execution_count": 1,
   "id": "d38f89a3-e5d8-4ba6-898a-e8ce76d46ef9",
   "metadata": {},
   "outputs": [],
   "source": [
    "from utils import load_pickle"
   ]
  }
 ],
 "metadata": {
  "kernelspec": {
   "display_name": "Python 3 (ipykernel)",
   "language": "python",
   "name": "python3"
  },
  "language_info": {
   "codemirror_mode": {
    "name": "ipython",
    "version": 3
   },
   "file_extension": ".py",
   "mimetype": "text/x-python",
   "name": "python",
   "nbconvert_exporter": "python",
   "pygments_lexer": "ipython3",
   "version": "3.12.4"
  }
 },
 "nbformat": 4,
 "nbformat_minor": 5
}
