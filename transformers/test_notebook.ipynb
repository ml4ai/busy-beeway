{
 "cells": [
  {
   "cell_type": "code",
   "execution_count": null,
   "id": "d38f89a3-e5d8-4ba6-898a-e8ce76d46ef9",
   "metadata": {},
   "outputs": [],
   "source": [
    "from data_utils import load_preference_data"
   ]
  },
  {
   "cell_type": "code",
   "execution_count": null,
   "id": "52df849f-dfe8-437e-a26f-9652169bd05b",
   "metadata": {},
   "outputs": [],
   "source": [
    "data = load_preference_data(\n",
    "    \"auto-1ba807eecf3cf284\",\n",
    "    sep_files=True,\n",
    "    attn_mask=True,\n",
    "    mmap_mode=None,\n",
    ")"
   ]
  }
 ],
 "metadata": {
  "kernelspec": {
   "display_name": "Python 3 (ipykernel)",
   "language": "python",
   "name": "python3"
  },
  "language_info": {
   "codemirror_mode": {
    "name": "ipython",
    "version": 3
   },
   "file_extension": ".py",
   "mimetype": "text/x-python",
   "name": "python",
   "nbconvert_exporter": "python",
   "pygments_lexer": "ipython3",
   "version": "3.12.4"
  }
 },
 "nbformat": 4,
 "nbformat_minor": 5
}
