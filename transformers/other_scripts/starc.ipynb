{
 "cells": [
  {
   "cell_type": "code",
   "execution_count": null,
   "id": "cbc4425c-5103-4322-be48-8699977bef65",
   "metadata": {},
   "outputs": [],
   "source": [
    "import h5py\n",
    "import matplotlib.pyplot as plt\n",
    "from sklearn.cluster import AffinityPropagation, HDBSCAN"
   ]
  },
  {
   "cell_type": "code",
   "execution_count": null,
   "id": "9cdc7a04-d67f-48c8-9ed4-d0c1d1af8501",
   "metadata": {},
   "outputs": [],
   "source": [
    "with h5py.File(\"../t0012/results/t0012_starc.hdf5\") as f:\n",
    "    data = f[\"starc_matrix\"][:]\n",
    "fig, ax = plt.subplots()\n",
    "im = ax.imshow(data, cmap=\"viridis\")\n",
    "plt.colorbar(im)\n",
    "plt.show()"
   ]
  },
  {
   "cell_type": "code",
   "execution_count": null,
   "id": "68c51639-39af-4347-ae56-5ad6b6181203",
   "metadata": {},
   "outputs": [],
   "source": [
    "clustering = AffinityPropagation(random_state=5,affinity=\"precomputed\").fit(data)\n",
    "clustering.labels_"
   ]
  },
  {
   "cell_type": "code",
   "execution_count": null,
   "id": "d2f0dcbc-d8ac-4de7-aed9-67536db46554",
   "metadata": {},
   "outputs": [],
   "source": [
    "clustering = HDBSCAN(metric=\"precomputed\",allow_single_cluster=True).fit(data)\n",
    "clustering.labels_"
   ]
  }
 ],
 "metadata": {
  "kernelspec": {
   "display_name": "Python 3 (ipykernel)",
   "language": "python",
   "name": "python3"
  },
  "language_info": {
   "codemirror_mode": {
    "name": "ipython",
    "version": 3
   },
   "file_extension": ".py",
   "mimetype": "text/x-python",
   "name": "python",
   "nbconvert_exporter": "python",
   "pygments_lexer": "ipython3",
   "version": "3.12.7"
  }
 },
 "nbformat": 4,
 "nbformat_minor": 5
}
