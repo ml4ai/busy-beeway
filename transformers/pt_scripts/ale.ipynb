{
 "cells": [
  {
   "cell_type": "code",
   "execution_count": null,
   "id": "24f75156-51c6-4484-a926-5e76c8c968a0",
   "metadata": {
    "editable": true,
    "slideshow": {
     "slide_type": ""
    },
    "tags": []
   },
   "outputs": [],
   "source": [
    "import os\n",
    "import sys\n",
    "\n",
    "import h5py\n",
    "import numpy as np\n",
    "import seaborn as sns\n",
    "\n",
    "sys.path.insert(0, os.path.abspath(\"../..\"))\n",
    "\n",
    "import matplotlib.pyplot as plt\n",
    "from matplotlib import colors\n",
    "from matplotlib.collections import LineCollection\n",
    "\n",
    "from transformers.data_utils.bb_data_loading import load_list\n",
    "from transformers.training.jax_utils import cross_ent_loss\n",
    "from transformers.training.utils import load_pickle"
   ]
  },
  {
   "cell_type": "code",
   "execution_count": null,
   "id": "b838a9fb-8439-483c-bcc9-d320d9e69569",
   "metadata": {
    "scrolled": true
   },
   "outputs": [],
   "source": [
    "t0012_list = load_list(\"../t0012/preference_data_1/day_list.txt\")"
   ]
  },
  {
   "cell_type": "code",
   "execution_count": null,
   "id": "1e494b8f-fda5-4829-af8a-870c4321b820",
   "metadata": {},
   "outputs": [],
   "source": [
    "with h5py.File(\"../t0012/preference_data_1/t0012.hdf5\") as f:\n",
    "    sts_2 = f[\"states_2\"][:]\n",
    "    acts_2 = f[\"actions_2\"][:]\n",
    "    ts_2 = f[\"timesteps_2\"][:]\n",
    "    am_2 = f[\"attn_mask_2\"][:]\n",
    "\n",
    "    sts = f[\"states\"][:]\n",
    "    acts = f[\"actions\"][:]\n",
    "    ts = f[\"timesteps\"][:]\n",
    "    am = f[\"attn_mask\"][:]"
   ]
  },
  {
   "cell_type": "code",
   "execution_count": null,
   "id": "33e58ac4-b87f-4178-8aa2-4346def8c469",
   "metadata": {},
   "outputs": [],
   "source": [
    "pr = []\n",
    "it = 10\n",
    "interval_list = list(range(0, len(t0012_list), it))\n",
    "interval_list = interval_list + [interval_list[-1] + it]\n",
    "interval_list = list(zip(interval_list, interval_list[1:]))\n",
    "\n",
    "\n",
    "def find_intervals(n, interval_list):\n",
    "    intervals = []\n",
    "    for i, j in interval_list:\n",
    "        intervals.append((i, j))\n",
    "        if n >= i and n < j:\n",
    "            return intervals\n",
    "\n",
    "\n",
    "n_model = load_pickle(\"../t0012/results/pt_rewards/best_model.pkl\")[\"model\"]\n",
    "\n",
    "nbr = []\n",
    "for n, m in interval_list:\n",
    "    inb = np.all((sts_2[:, :, 15] >= n) & (sts_2[:, :, 15] < m), axis=1)\n",
    "    s_2 = sts_2[inb, ...]\n",
    "    if s_2.shape[0] > 0:\n",
    "        a_2 = acts_2[inb, ...]\n",
    "        t_2 = ts_2[inb, ...]\n",
    "        atm_2 = am_2[inb, ...]\n",
    "\n",
    "        s_1 = sts[inb, ...]\n",
    "        a_1 = acts[inb, ...]\n",
    "        t_1 = ts[inb, ...]\n",
    "        atm_1 = am[inb, ...]\n",
    "\n",
    "        s_2[:, :, 15] = np.where(atm_2 != 0, m, s_2[:, :, 15])\n",
    "        s_1[:, :, 15] = np.where(atm_1 != 0, m, s_1[:, :, 15])\n",
    "        n_pred_2, n_weights_2 = n_model._train_state.apply_fn(\n",
    "            n_model._train_state.params,\n",
    "            s_2,\n",
    "            a_2,\n",
    "            t_2,\n",
    "            training=False,\n",
    "            attn_mask=atm_2,\n",
    "        )\n",
    "        n_pred, n_weights = n_model._train_state.apply_fn(\n",
    "            n_model._train_state.params,\n",
    "            s_1,\n",
    "            a_1,\n",
    "            t_1,\n",
    "            training=False,\n",
    "            attn_mask=atm_1,\n",
    "        )\n",
    "        B, T, _ = s_1.shape\n",
    "        trans_pred_1 = n_pred[\"weighted_sum\"]\n",
    "        trans_pred_2 = n_pred_2[\"weighted_sum\"]\n",
    "\n",
    "        sum_pred_1 = np.nanmean(trans_pred_1.reshape(B, T), axis=1).reshape(-1, 1)\n",
    "        sum_pred_2 = np.nanmean(trans_pred_2.reshape(B, T), axis=1).reshape(-1, 1)\n",
    "\n",
    "        m_p = 1 / (np.exp(sum_pred_1 - sum_pred_2) + 1)\n",
    "\n",
    "        s_2[:, :, 15] = np.where(atm_2 != 0, n, s_2[:, :, 15])\n",
    "        s_1[:, :, 15] = np.where(atm_1 != 0, n, s_1[:, :, 15])\n",
    "        n_pred_2, n_weights_2 = n_model._train_state.apply_fn(\n",
    "            n_model._train_state.params,\n",
    "            s_2,\n",
    "            a_2,\n",
    "            t_2,\n",
    "            training=False,\n",
    "            attn_mask=atm_2,\n",
    "        )\n",
    "        n_pred, n_weights = n_model._train_state.apply_fn(\n",
    "            n_model._train_state.params,\n",
    "            s_1,\n",
    "            a_1,\n",
    "            t_1,\n",
    "            training=False,\n",
    "            attn_mask=atm_1,\n",
    "        )\n",
    "        B, T, _ = s_1.shape\n",
    "        trans_pred_1 = n_pred[\"weighted_sum\"]\n",
    "        trans_pred_2 = n_pred_2[\"weighted_sum\"]\n",
    "\n",
    "        sum_pred_1 = np.nanmean(trans_pred_1.reshape(B, T), axis=1).reshape(-1, 1)\n",
    "        sum_pred_2 = np.nanmean(trans_pred_2.reshape(B, T), axis=1).reshape(-1, 1)\n",
    "\n",
    "        n_p = 1 / (np.exp(sum_pred_1 - sum_pred_2) + 1)\n",
    "        nbr.append(np.mean(m_p - n_p))\n",
    "\n",
    "pr = []\n",
    "for i in range(len(t0012_list)):\n",
    "    intervals = find_intervals(i, interval_list)\n",
    "    e_sum = 0.0\n",
    "    for j in range(len(intervals)):\n",
    "        if j < len(nbr):\n",
    "            e_sum += nbr[j]\n",
    "    pr.append(e_sum)"
   ]
  },
  {
   "cell_type": "code",
   "execution_count": null,
   "id": "6ea8385a-59db-43cb-a9d6-17f0fcda4804",
   "metadata": {},
   "outputs": [],
   "source": [
    "pr = np.array(pr)\n",
    "pr = pr - np.mean(pr)"
   ]
  },
  {
   "cell_type": "code",
   "execution_count": null,
   "id": "76570a7b-5cd7-40e3-bf78-9812dc236b67",
   "metadata": {},
   "outputs": [],
   "source": [
    "fig, ax = plt.subplots()\n",
    "ax.plot(pr)\n",
    "ax.set_title(\"ALE Plot for Day in Experiment\")\n",
    "ax.set_xlabel(\"Day\")\n",
    "ax.set_ylabel(\"ALE\")\n",
    "plt.show()"
   ]
  }
 ],
 "metadata": {
  "kernelspec": {
   "display_name": "Python 3 (ipykernel)",
   "language": "python",
   "name": "python3"
  },
  "language_info": {
   "codemirror_mode": {
    "name": "ipython",
    "version": 3
   },
   "file_extension": ".py",
   "mimetype": "text/x-python",
   "name": "python",
   "nbconvert_exporter": "python",
   "pygments_lexer": "ipython3",
   "version": "3.12.7"
  }
 },
 "nbformat": 4,
 "nbformat_minor": 5
}
