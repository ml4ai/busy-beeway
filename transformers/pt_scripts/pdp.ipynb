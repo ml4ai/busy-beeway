{
 "cells": [
  {
   "cell_type": "code",
   "execution_count": null,
   "id": "24f75156-51c6-4484-a926-5e76c8c968a0",
   "metadata": {
    "editable": true,
    "slideshow": {
     "slide_type": ""
    },
    "tags": []
   },
   "outputs": [],
   "source": [
    "import os\n",
    "import sys\n",
    "\n",
    "import h5py\n",
    "import numpy as np\n",
    "import seaborn as sns\n",
    "\n",
    "sys.path.insert(0, os.path.abspath(\"../..\"))\n",
    "\n",
    "import matplotlib.pyplot as plt\n",
    "from matplotlib import colors\n",
    "from matplotlib.collections import LineCollection\n",
    "\n",
    "from transformers.data_utils.bb_data_loading import load_list\n",
    "from transformers.training.jax_utils import cross_ent_loss\n",
    "from transformers.training.utils import load_pickle"
   ]
  },
  {
   "cell_type": "code",
   "execution_count": null,
   "id": "b838a9fb-8439-483c-bcc9-d320d9e69569",
   "metadata": {
    "scrolled": true
   },
   "outputs": [],
   "source": [
    "t0012_list = load_list(\"../t0012/preference_data_1/day_list.txt\")"
   ]
  },
  {
   "cell_type": "code",
   "execution_count": null,
   "id": "1e494b8f-fda5-4829-af8a-870c4321b820",
   "metadata": {},
   "outputs": [],
   "source": [
    "with h5py.File(\"../t0012/preference_data_1/t0012.hdf5\") as f:\n",
    "    sts_2 = f[\"states_2\"][:]\n",
    "    acts_2 = f[\"actions_2\"][:]\n",
    "    ts_2 = f[\"timesteps_2\"][:]\n",
    "    am_2 = f[\"attn_mask_2\"][:]\n",
    "\n",
    "    sts = f[\"states\"][:]\n",
    "    acts = f[\"actions\"][:]\n",
    "    ts = f[\"timesteps\"][:]\n",
    "    am = f[\"attn_mask\"][:]"
   ]
  },
  {
   "cell_type": "code",
   "execution_count": null,
   "id": "33e58ac4-b87f-4178-8aa2-4346def8c469",
   "metadata": {},
   "outputs": [],
   "source": [
    "pr = []\n",
    "n_model = load_pickle(\"../t0012/results/pt_rewards/best_model.pkl\")[\"model\"]\n",
    "for i in range(len(t0012_list)):\n",
    "    sts_2[:, :, 15] = np.where(am_2 != 0, i, sts_2[:, :, 15])\n",
    "    sts[:, :, 15] = np.where(am != 0, i, sts[:, :, 15])\n",
    "    n_pred_2, n_weights_2 = n_model._train_state.apply_fn(\n",
    "        n_model._train_state.params, sts_2, acts_2, ts_2, training=False, attn_mask=am_2\n",
    "    )\n",
    "    n_pred, n_weights = n_model._train_state.apply_fn(\n",
    "        n_model._train_state.params, sts, acts, ts, training=False, attn_mask=am\n",
    "    )\n",
    "    B, T, _ = sts.shape\n",
    "    trans_pred_1 = n_pred[\"weighted_sum\"]\n",
    "    trans_pred_2 = n_pred_2[\"weighted_sum\"]\n",
    "\n",
    "    sum_pred_1 = np.nanmean(trans_pred_1.reshape(B, T), axis=1).reshape(-1, 1)\n",
    "    sum_pred_2 = np.nanmean(trans_pred_2.reshape(B, T), axis=1).reshape(-1, 1)\n",
    "\n",
    "    pr.append(np.mean(1 / (np.exp(sum_pred_1 - sum_pred_2) + 1)))"
   ]
  },
  {
   "cell_type": "code",
   "execution_count": null,
   "id": "6ea8385a-59db-43cb-a9d6-17f0fcda4804",
   "metadata": {},
   "outputs": [],
   "source": [
    "I_day = (np.max(pr) - np.min(pr)) / 4\n",
    "print(I_day)"
   ]
  },
  {
   "cell_type": "code",
   "execution_count": null,
   "id": "76570a7b-5cd7-40e3-bf78-9812dc236b67",
   "metadata": {},
   "outputs": [],
   "source": [
    "fig, ax = plt.subplots()\n",
    "ax.plot(pr)\n",
    "ax.set_title(\"Partial Dependence Plot for Day in Experiment\")\n",
    "ax.set_xlabel(\"Day\")\n",
    "ax.set_ylabel(\"Average Probability of Preferred Labeling for Segment 2\")\n",
    "plt.show()"
   ]
  }
 ],
 "metadata": {
  "kernelspec": {
   "display_name": "Python 3 (ipykernel)",
   "language": "python",
   "name": "python3"
  },
  "language_info": {
   "codemirror_mode": {
    "name": "ipython",
    "version": 3
   },
   "file_extension": ".py",
   "mimetype": "text/x-python",
   "name": "python",
   "nbconvert_exporter": "python",
   "pygments_lexer": "ipython3",
   "version": "3.12.7"
  }
 },
 "nbformat": 4,
 "nbformat_minor": 5
}
