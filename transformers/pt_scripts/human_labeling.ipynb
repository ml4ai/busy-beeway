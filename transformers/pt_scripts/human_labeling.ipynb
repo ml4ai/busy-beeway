{
 "cells": [
  {
   "cell_type": "code",
   "execution_count": null,
   "id": "78c81f74-6d86-42e5-8e74-7719d3d937c9",
   "metadata": {},
   "outputs": [],
   "source": [
    "import os\n",
    "\n",
    "import h5py\n",
    "import numpy as np\n",
    "from IPython.display import Video\n",
    "\n",
    "\n",
    "def get_label(ans):\n",
    "    try:\n",
    "        ans = int(ans)\n",
    "    except:\n",
    "        print(\"Wrong Input\")\n",
    "        return False\n",
    "    if ans not in [1, 2, 3]:\n",
    "        print(\"Invalid option.\")\n",
    "        return False\n",
    "    if ans == 1:\n",
    "        return [0]\n",
    "    elif ans == 2:\n",
    "        return [1]\n",
    "    else:\n",
    "        return [0.5]\n",
    "\n",
    "\n",
    "def create_human_label(\n",
    "    video_dir, num_query=100, start_idx=None, width=1000, height=500\n",
    "):\n",
    "    print(\"START!\")\n",
    "    if start_idx:\n",
    "        assert start_idx > 0, \"you must input with video number (1, 2, 3, ...)\"\n",
    "        interval = range(start_idx - 1, num_query)\n",
    "    else:\n",
    "        interval = range(num_query)\n",
    "    pref_labels = []\n",
    "    for i in interval:\n",
    "        label = False\n",
    "        while not label:\n",
    "            print(f\"\\nVideo {i + 1}\")\n",
    "            video_file = os.path.join(video_dir, f\"idx{i}.mp4\")\n",
    "            display(\n",
    "                Video(\n",
    "                    video_file,\n",
    "                    width=width,\n",
    "                    height=height,\n",
    "                    html_attributes=\"loop autoplay\",\n",
    "                )\n",
    "            )\n",
    "            reward = input(\n",
    "                f\"[{i + 1}/{num_query}] Put Preference (1 (left), 2 (right), 3 (equal)):  \"\n",
    "            ).strip()\n",
    "            label = get_label(reward)\n",
    "            if label:\n",
    "                pref_labels.append(label[0])\n",
    "    return np.asarray(pref_labels)"
   ]
  },
  {
   "cell_type": "code",
   "execution_count": null,
   "id": "6b146e4f-62de-4b35-a749-a6d5a8e737b2",
   "metadata": {},
   "outputs": [],
   "source": [
    "env_pref_file = \"../ant_labels/AntMaze_Medium-v4_pref.hdf5\"\n",
    "labels = create_human_label(\"../ant_labels/AntMaze_Medium-v4\")\n",
    "\n",
    "with h5py.File(env_pref_file, \"a\") as f:\n",
    "    if \"labels\" in f:\n",
    "        del f[\"labels\"]\n",
    "    f.create_dataset(\"labels\", data=labels, chunks=True)"
   ]
  }
 ],
 "metadata": {
  "kernelspec": {
   "display_name": "Python 3 (ipykernel)",
   "language": "python",
   "name": "python3"
  },
  "language_info": {
   "codemirror_mode": {
    "name": "ipython",
    "version": 3
   },
   "file_extension": ".py",
   "mimetype": "text/x-python",
   "name": "python",
   "nbconvert_exporter": "python",
   "pygments_lexer": "ipython3",
   "version": "3.12.7"
  }
 },
 "nbformat": 4,
 "nbformat_minor": 5
}
